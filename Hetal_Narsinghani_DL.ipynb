{
  "nbformat": 4,
  "nbformat_minor": 0,
  "metadata": {
    "colab": {
      "name": "Hetal-Narsinghani-DL.ipynb",
      "provenance": []
    },
    "kernelspec": {
      "name": "python3",
      "display_name": "Python 3"
    },
    "language_info": {
      "name": "python"
    }
  },
  "cells": [
    {
      "cell_type": "markdown",
      "metadata": {
        "id": "yWavkmbNpKfM"
      },
      "source": [
        "**Deep Neural Network to predict hand written Digit Recognition**"
      ]
    },
    {
      "cell_type": "code",
      "metadata": {
        "id": "RB3ZHTKipHXu"
      },
      "source": [
        "# Importing Dataset\n",
        "\n",
        "from sklearn.datasets import load_breast_cancer\n",
        "Data = load_breast_cancer()"
      ],
      "execution_count": 1,
      "outputs": []
    },
    {
      "cell_type": "code",
      "metadata": {
        "colab": {
          "base_uri": "https://localhost:8080/"
        },
        "id": "k0nUfN4iqUyF",
        "outputId": "308377ac-904a-4215-f531-88d9119f7318"
      },
      "source": [
        "print(Data.DESCR)"
      ],
      "execution_count": 2,
      "outputs": [
        {
          "output_type": "stream",
          "text": [
            ".. _breast_cancer_dataset:\n",
            "\n",
            "Breast cancer wisconsin (diagnostic) dataset\n",
            "--------------------------------------------\n",
            "\n",
            "**Data Set Characteristics:**\n",
            "\n",
            "    :Number of Instances: 569\n",
            "\n",
            "    :Number of Attributes: 30 numeric, predictive attributes and the class\n",
            "\n",
            "    :Attribute Information:\n",
            "        - radius (mean of distances from center to points on the perimeter)\n",
            "        - texture (standard deviation of gray-scale values)\n",
            "        - perimeter\n",
            "        - area\n",
            "        - smoothness (local variation in radius lengths)\n",
            "        - compactness (perimeter^2 / area - 1.0)\n",
            "        - concavity (severity of concave portions of the contour)\n",
            "        - concave points (number of concave portions of the contour)\n",
            "        - symmetry \n",
            "        - fractal dimension (\"coastline approximation\" - 1)\n",
            "\n",
            "        The mean, standard error, and \"worst\" or largest (mean of the three\n",
            "        largest values) of these features were computed for each image,\n",
            "        resulting in 30 features.  For instance, field 3 is Mean Radius, field\n",
            "        13 is Radius SE, field 23 is Worst Radius.\n",
            "\n",
            "        - class:\n",
            "                - WDBC-Malignant\n",
            "                - WDBC-Benign\n",
            "\n",
            "    :Summary Statistics:\n",
            "\n",
            "    ===================================== ====== ======\n",
            "                                           Min    Max\n",
            "    ===================================== ====== ======\n",
            "    radius (mean):                        6.981  28.11\n",
            "    texture (mean):                       9.71   39.28\n",
            "    perimeter (mean):                     43.79  188.5\n",
            "    area (mean):                          143.5  2501.0\n",
            "    smoothness (mean):                    0.053  0.163\n",
            "    compactness (mean):                   0.019  0.345\n",
            "    concavity (mean):                     0.0    0.427\n",
            "    concave points (mean):                0.0    0.201\n",
            "    symmetry (mean):                      0.106  0.304\n",
            "    fractal dimension (mean):             0.05   0.097\n",
            "    radius (standard error):              0.112  2.873\n",
            "    texture (standard error):             0.36   4.885\n",
            "    perimeter (standard error):           0.757  21.98\n",
            "    area (standard error):                6.802  542.2\n",
            "    smoothness (standard error):          0.002  0.031\n",
            "    compactness (standard error):         0.002  0.135\n",
            "    concavity (standard error):           0.0    0.396\n",
            "    concave points (standard error):      0.0    0.053\n",
            "    symmetry (standard error):            0.008  0.079\n",
            "    fractal dimension (standard error):   0.001  0.03\n",
            "    radius (worst):                       7.93   36.04\n",
            "    texture (worst):                      12.02  49.54\n",
            "    perimeter (worst):                    50.41  251.2\n",
            "    area (worst):                         185.2  4254.0\n",
            "    smoothness (worst):                   0.071  0.223\n",
            "    compactness (worst):                  0.027  1.058\n",
            "    concavity (worst):                    0.0    1.252\n",
            "    concave points (worst):               0.0    0.291\n",
            "    symmetry (worst):                     0.156  0.664\n",
            "    fractal dimension (worst):            0.055  0.208\n",
            "    ===================================== ====== ======\n",
            "\n",
            "    :Missing Attribute Values: None\n",
            "\n",
            "    :Class Distribution: 212 - Malignant, 357 - Benign\n",
            "\n",
            "    :Creator:  Dr. William H. Wolberg, W. Nick Street, Olvi L. Mangasarian\n",
            "\n",
            "    :Donor: Nick Street\n",
            "\n",
            "    :Date: November, 1995\n",
            "\n",
            "This is a copy of UCI ML Breast Cancer Wisconsin (Diagnostic) datasets.\n",
            "https://goo.gl/U2Uwz2\n",
            "\n",
            "Features are computed from a digitized image of a fine needle\n",
            "aspirate (FNA) of a breast mass.  They describe\n",
            "characteristics of the cell nuclei present in the image.\n",
            "\n",
            "Separating plane described above was obtained using\n",
            "Multisurface Method-Tree (MSM-T) [K. P. Bennett, \"Decision Tree\n",
            "Construction Via Linear Programming.\" Proceedings of the 4th\n",
            "Midwest Artificial Intelligence and Cognitive Science Society,\n",
            "pp. 97-101, 1992], a classification method which uses linear\n",
            "programming to construct a decision tree.  Relevant features\n",
            "were selected using an exhaustive search in the space of 1-4\n",
            "features and 1-3 separating planes.\n",
            "\n",
            "The actual linear program used to obtain the separating plane\n",
            "in the 3-dimensional space is that described in:\n",
            "[K. P. Bennett and O. L. Mangasarian: \"Robust Linear\n",
            "Programming Discrimination of Two Linearly Inseparable Sets\",\n",
            "Optimization Methods and Software 1, 1992, 23-34].\n",
            "\n",
            "This database is also available through the UW CS ftp server:\n",
            "\n",
            "ftp ftp.cs.wisc.edu\n",
            "cd math-prog/cpo-dataset/machine-learn/WDBC/\n",
            "\n",
            ".. topic:: References\n",
            "\n",
            "   - W.N. Street, W.H. Wolberg and O.L. Mangasarian. Nuclear feature extraction \n",
            "     for breast tumor diagnosis. IS&T/SPIE 1993 International Symposium on \n",
            "     Electronic Imaging: Science and Technology, volume 1905, pages 861-870,\n",
            "     San Jose, CA, 1993.\n",
            "   - O.L. Mangasarian, W.N. Street and W.H. Wolberg. Breast cancer diagnosis and \n",
            "     prognosis via linear programming. Operations Research, 43(4), pages 570-577, \n",
            "     July-August 1995.\n",
            "   - W.H. Wolberg, W.N. Street, and O.L. Mangasarian. Machine learning techniques\n",
            "     to diagnose breast cancer from fine-needle aspirates. Cancer Letters 77 (1994) \n",
            "     163-171.\n"
          ],
          "name": "stdout"
        }
      ]
    },
    {
      "cell_type": "code",
      "metadata": {
        "colab": {
          "base_uri": "https://localhost:8080/"
        },
        "id": "vqaZR5SBq0kl",
        "outputId": "f6be4665-d25b-46f6-98e7-1e0c7a98dc7b"
      },
      "source": [
        "features = Data.data\n",
        "target = Data.target\n",
        "\n",
        "print(features.shape)\n",
        "print(target.shape)"
      ],
      "execution_count": 4,
      "outputs": [
        {
          "output_type": "stream",
          "text": [
            "(569, 30)\n",
            "(569,)\n"
          ],
          "name": "stdout"
        }
      ]
    },
    {
      "cell_type": "code",
      "metadata": {
        "colab": {
          "base_uri": "https://localhost:8080/"
        },
        "id": "OW1i8E3GukLc",
        "outputId": "cbc2986f-c477-479f-cb1e-12956ceb2e9e"
      },
      "source": [
        "from sklearn.model_selection import train_test_split\n",
        "\n",
        "X_train, X_test, y_train, y_test = train_test_split(features, target, test_size=0.2)\n",
        "\n",
        "print(X_train.shape)\n",
        "print(y_train.shape)\n",
        "print(X_test.shape)\n",
        "print(y_test.shape)"
      ],
      "execution_count": 5,
      "outputs": [
        {
          "output_type": "stream",
          "text": [
            "(455, 30)\n",
            "(455,)\n",
            "(114, 30)\n",
            "(114,)\n"
          ],
          "name": "stdout"
        }
      ]
    },
    {
      "cell_type": "code",
      "metadata": {
        "id": "9Tfm6E2BxHqf"
      },
      "source": [
        "from keras.models import Sequential\n",
        "from keras.layers import Dense"
      ],
      "execution_count": 6,
      "outputs": []
    },
    {
      "cell_type": "code",
      "metadata": {
        "id": "Ljzjjh09xVm9"
      },
      "source": [
        "model = Sequential()\n",
        "model.add(Dense(32, input_dim=30, activation='relu')) # Hidden layer 1\n",
        "model.add(Dense(64, activation='relu')) # Hidden layer 2\n",
        "model.add(Dense(1, activation='sigmoid')) "
      ],
      "execution_count": 7,
      "outputs": []
    },
    {
      "cell_type": "code",
      "metadata": {
        "id": "FJWPQoE9yB2k"
      },
      "source": [
        "# Compiling the ANN\n",
        "model.compile(optimizer = 'adam', loss = 'binary_crossentropy', metrics = ['accuracy'])"
      ],
      "execution_count": 9,
      "outputs": []
    },
    {
      "cell_type": "code",
      "metadata": {
        "colab": {
          "base_uri": "https://localhost:8080/"
        },
        "id": "pdz-eQ0Ry15A",
        "outputId": "9145ebf7-01a4-4171-da0b-3c285c80a9dc"
      },
      "source": [
        "model.summary()"
      ],
      "execution_count": 10,
      "outputs": [
        {
          "output_type": "stream",
          "text": [
            "Model: \"sequential\"\n",
            "_________________________________________________________________\n",
            "Layer (type)                 Output Shape              Param #   \n",
            "=================================================================\n",
            "dense (Dense)                (None, 32)                992       \n",
            "_________________________________________________________________\n",
            "dense_1 (Dense)              (None, 64)                2112      \n",
            "_________________________________________________________________\n",
            "dense_2 (Dense)              (None, 1)                 65        \n",
            "=================================================================\n",
            "Total params: 3,169\n",
            "Trainable params: 3,169\n",
            "Non-trainable params: 0\n",
            "_________________________________________________________________\n"
          ],
          "name": "stdout"
        }
      ]
    },
    {
      "cell_type": "code",
      "metadata": {
        "colab": {
          "base_uri": "https://localhost:8080/"
        },
        "id": "LBLSOjXTy8Hd",
        "outputId": "bd9b2bb9-816c-4846-d5df-76942c496a07"
      },
      "source": [
        "model.fit(X_train, y_train, epochs=35, batch_size=64)"
      ],
      "execution_count": 18,
      "outputs": [
        {
          "output_type": "stream",
          "text": [
            "Epoch 1/35\n",
            "8/8 [==============================] - 0s 2ms/step - loss: 0.4517 - accuracy: 0.8615\n",
            "Epoch 2/35\n",
            "8/8 [==============================] - 0s 3ms/step - loss: 0.3358 - accuracy: 0.8901\n",
            "Epoch 3/35\n",
            "8/8 [==============================] - 0s 3ms/step - loss: 0.2163 - accuracy: 0.9319\n",
            "Epoch 4/35\n",
            "8/8 [==============================] - 0s 3ms/step - loss: 0.2676 - accuracy: 0.9077\n",
            "Epoch 5/35\n",
            "8/8 [==============================] - 0s 3ms/step - loss: 0.1847 - accuracy: 0.9275\n",
            "Epoch 6/35\n",
            "8/8 [==============================] - 0s 4ms/step - loss: 0.1481 - accuracy: 0.9407\n",
            "Epoch 7/35\n",
            "8/8 [==============================] - 0s 3ms/step - loss: 0.1484 - accuracy: 0.9385\n",
            "Epoch 8/35\n",
            "8/8 [==============================] - 0s 4ms/step - loss: 0.1407 - accuracy: 0.9407\n",
            "Epoch 9/35\n",
            "8/8 [==============================] - 0s 3ms/step - loss: 0.1228 - accuracy: 0.9473\n",
            "Epoch 10/35\n",
            "8/8 [==============================] - 0s 3ms/step - loss: 0.1442 - accuracy: 0.9451\n",
            "Epoch 11/35\n",
            "8/8 [==============================] - 0s 3ms/step - loss: 0.1556 - accuracy: 0.9341\n",
            "Epoch 12/35\n",
            "8/8 [==============================] - 0s 3ms/step - loss: 0.1548 - accuracy: 0.9275\n",
            "Epoch 13/35\n",
            "8/8 [==============================] - 0s 3ms/step - loss: 0.1463 - accuracy: 0.9429\n",
            "Epoch 14/35\n",
            "8/8 [==============================] - 0s 4ms/step - loss: 0.1280 - accuracy: 0.9538\n",
            "Epoch 15/35\n",
            "8/8 [==============================] - 0s 3ms/step - loss: 0.1322 - accuracy: 0.9473\n",
            "Epoch 16/35\n",
            "8/8 [==============================] - 0s 3ms/step - loss: 0.1371 - accuracy: 0.9473\n",
            "Epoch 17/35\n",
            "8/8 [==============================] - 0s 3ms/step - loss: 0.1180 - accuracy: 0.9495\n",
            "Epoch 18/35\n",
            "8/8 [==============================] - 0s 3ms/step - loss: 0.1174 - accuracy: 0.9516\n",
            "Epoch 19/35\n",
            "8/8 [==============================] - 0s 3ms/step - loss: 0.1142 - accuracy: 0.9407\n",
            "Epoch 20/35\n",
            "8/8 [==============================] - 0s 3ms/step - loss: 0.1210 - accuracy: 0.9429\n",
            "Epoch 21/35\n",
            "8/8 [==============================] - 0s 3ms/step - loss: 0.1243 - accuracy: 0.9516\n",
            "Epoch 22/35\n",
            "8/8 [==============================] - 0s 3ms/step - loss: 0.1313 - accuracy: 0.9495\n",
            "Epoch 23/35\n",
            "8/8 [==============================] - 0s 3ms/step - loss: 0.1175 - accuracy: 0.9516\n",
            "Epoch 24/35\n",
            "8/8 [==============================] - 0s 3ms/step - loss: 0.1572 - accuracy: 0.9385\n",
            "Epoch 25/35\n",
            "8/8 [==============================] - 0s 3ms/step - loss: 0.1285 - accuracy: 0.9516\n",
            "Epoch 26/35\n",
            "8/8 [==============================] - 0s 3ms/step - loss: 0.1220 - accuracy: 0.9407\n",
            "Epoch 27/35\n",
            "8/8 [==============================] - 0s 2ms/step - loss: 0.1821 - accuracy: 0.9297\n",
            "Epoch 28/35\n",
            "8/8 [==============================] - 0s 3ms/step - loss: 0.1767 - accuracy: 0.9231\n",
            "Epoch 29/35\n",
            "8/8 [==============================] - 0s 2ms/step - loss: 0.1308 - accuracy: 0.9429\n",
            "Epoch 30/35\n",
            "8/8 [==============================] - 0s 2ms/step - loss: 0.1488 - accuracy: 0.9319\n",
            "Epoch 31/35\n",
            "8/8 [==============================] - 0s 3ms/step - loss: 0.1602 - accuracy: 0.9319\n",
            "Epoch 32/35\n",
            "8/8 [==============================] - 0s 3ms/step - loss: 0.1421 - accuracy: 0.9429\n",
            "Epoch 33/35\n",
            "8/8 [==============================] - 0s 3ms/step - loss: 0.1174 - accuracy: 0.9451\n",
            "Epoch 34/35\n",
            "8/8 [==============================] - 0s 3ms/step - loss: 0.2160 - accuracy: 0.9187\n",
            "Epoch 35/35\n",
            "8/8 [==============================] - 0s 3ms/step - loss: 0.1369 - accuracy: 0.9429\n"
          ],
          "name": "stdout"
        },
        {
          "output_type": "execute_result",
          "data": {
            "text/plain": [
              "<keras.callbacks.History at 0x7f4ccfd21a90>"
            ]
          },
          "metadata": {
            "tags": []
          },
          "execution_count": 18
        }
      ]
    },
    {
      "cell_type": "code",
      "metadata": {
        "colab": {
          "base_uri": "https://localhost:8080/"
        },
        "id": "Z7zrCBu1z8Aa",
        "outputId": "e0c5ead0-796f-41e1-9f48-17c52317d450"
      },
      "source": [
        "scores = model.evaluate(X_test,y_test)\n",
        "print(scores) # returns loss and accuracy"
      ],
      "execution_count": 19,
      "outputs": [
        {
          "output_type": "stream",
          "text": [
            "4/4 [==============================] - 1s 3ms/step - loss: 0.1468 - accuracy: 0.9474\n",
            "[0.146759495139122, 0.9473684430122375]\n"
          ],
          "name": "stdout"
        }
      ]
    },
    {
      "cell_type": "code",
      "metadata": {
        "colab": {
          "base_uri": "https://localhost:8080/"
        },
        "id": "QYaA9-DE0TwF",
        "outputId": "9c3548a7-60f6-408a-d453-c2901fda713e"
      },
      "source": [
        "predictions = model.predict(X_test)\n",
        "label=[]\n",
        "for pred in predictions:\n",
        "  if pred>0.5:\n",
        "    print(\"Malignent\")\n",
        "  else:\n",
        "    print(\"Benign\")"
      ],
      "execution_count": 21,
      "outputs": [
        {
          "output_type": "stream",
          "text": [
            "Malignent\n",
            "Benign\n",
            "Benign\n",
            "Malignent\n",
            "Malignent\n",
            "Benign\n",
            "Benign\n",
            "Malignent\n",
            "Malignent\n",
            "Malignent\n",
            "Benign\n",
            "Malignent\n",
            "Malignent\n",
            "Malignent\n",
            "Benign\n",
            "Malignent\n",
            "Benign\n",
            "Malignent\n",
            "Benign\n",
            "Benign\n",
            "Benign\n",
            "Malignent\n",
            "Malignent\n",
            "Benign\n",
            "Malignent\n",
            "Malignent\n",
            "Malignent\n",
            "Benign\n",
            "Benign\n",
            "Benign\n",
            "Malignent\n",
            "Benign\n",
            "Malignent\n",
            "Benign\n",
            "Malignent\n",
            "Malignent\n",
            "Benign\n",
            "Malignent\n",
            "Malignent\n",
            "Benign\n",
            "Malignent\n",
            "Benign\n",
            "Benign\n",
            "Benign\n",
            "Malignent\n",
            "Malignent\n",
            "Malignent\n",
            "Benign\n",
            "Malignent\n",
            "Benign\n",
            "Malignent\n",
            "Malignent\n",
            "Benign\n",
            "Benign\n",
            "Malignent\n",
            "Malignent\n",
            "Benign\n",
            "Malignent\n",
            "Malignent\n",
            "Benign\n",
            "Benign\n",
            "Malignent\n",
            "Malignent\n",
            "Benign\n",
            "Malignent\n",
            "Malignent\n",
            "Malignent\n",
            "Benign\n",
            "Malignent\n",
            "Benign\n",
            "Malignent\n",
            "Benign\n",
            "Malignent\n",
            "Malignent\n",
            "Malignent\n",
            "Malignent\n",
            "Malignent\n",
            "Malignent\n",
            "Malignent\n",
            "Malignent\n",
            "Malignent\n",
            "Malignent\n",
            "Benign\n",
            "Malignent\n",
            "Benign\n",
            "Malignent\n",
            "Benign\n",
            "Benign\n",
            "Malignent\n",
            "Benign\n",
            "Malignent\n",
            "Benign\n",
            "Malignent\n",
            "Benign\n",
            "Malignent\n",
            "Malignent\n",
            "Benign\n",
            "Benign\n",
            "Malignent\n",
            "Benign\n",
            "Benign\n",
            "Malignent\n",
            "Benign\n",
            "Malignent\n",
            "Malignent\n",
            "Malignent\n",
            "Malignent\n",
            "Malignent\n",
            "Benign\n",
            "Malignent\n",
            "Benign\n",
            "Benign\n",
            "Malignent\n",
            "Malignent\n"
          ],
          "name": "stdout"
        }
      ]
    }
  ]
}